{
 "cells": [
  {
   "cell_type": "markdown",
   "metadata": {},
   "source": [
    "- ## <b>Acompanhamento de precificação: Medicamentos</b>\n"
   ]
  },
  {
   "cell_type": "code",
   "execution_count": 4,
   "metadata": {},
   "outputs": [],
   "source": [
    "import pandas as pd\n",
    "from datetime import datetime\n",
    "from bmldev.pdleo import cria_dfs, le_base_excel, converte_tipos_colunas, branco_para_nan\n",
    "from datetime import datetime"
   ]
  },
  {
   "cell_type": "code",
   "execution_count": 5,
   "metadata": {},
   "outputs": [],
   "source": [
    "dir_input = \"./bases/\"\n",
    "dir_output = \"./relatorio/\""
   ]
  },
  {
   "cell_type": "code",
   "execution_count": 6,
   "metadata": {},
   "outputs": [],
   "source": [
    "dt_hoje = '20210609'\n",
    "dt_ultimo_relatorio = '20210609'"
   ]
  },
  {
   "cell_type": "markdown",
   "metadata": {},
   "source": [
    "- ## <b>Leitura de bases</b>"
   ]
  },
  {
   "cell_type": "code",
   "execution_count": 8,
   "metadata": {},
   "outputs": [
    {
     "name": "stdout",
     "output_type": "stream",
     "text": [
      "Lendo base zbfa...ok\n",
      "Wall time: 1.9 s\n"
     ]
    }
   ],
   "source": [
    "%%time\n",
    "dfs_txt = cria_dfs(\n",
    "                nomes_bases=['zbfa'],\n",
    "    \n",
    "                palavras_chave=['abcfarma'],\n",
    "    \n",
    "                cols=[16],\n",
    "    \n",
    "                multiplas_bases_txt=[False],\n",
    "                \n",
    "                diretorio=dir_input\n",
    "\n",
    "    \n",
    ")"
   ]
  },
  {
   "cell_type": "code",
   "execution_count": 50,
   "metadata": {},
   "outputs": [],
   "source": [
    "df_dadosfarma = le_base_excel(dir_input, 'banco de dados')"
   ]
  },
  {
   "cell_type": "code",
   "execution_count": 38,
   "metadata": {},
   "outputs": [],
   "source": [
    "df_iqvia = le_base_excel(dir_input, 'IQVIA_Norte')"
   ]
  },
  {
   "cell_type": "code",
   "execution_count": 40,
   "metadata": {},
   "outputs": [],
   "source": [
    "## Vamos utilizar para comparar o último desconto sobre PF cadastrado para cada SKU\n",
    "\n",
    "df_desc_ant =le_base_excel(dir_input, 'desonto', 'Original')"
   ]
  },
  {
   "cell_type": "markdown",
   "metadata": {},
   "source": [
    "- ## <b>Processamento</b>"
   ]
  },
  {
   "cell_type": "markdown",
   "metadata": {},
   "source": [
    "- ### df_zbfa"
   ]
  },
  {
   "cell_type": "code",
   "execution_count": 18,
   "metadata": {},
   "outputs": [],
   "source": [
    "df_zbfa = dfs_txt['zbfa'].copy()"
   ]
  },
  {
   "cell_type": "code",
   "execution_count": 20,
   "metadata": {},
   "outputs": [],
   "source": [
    "df_zbfa = df_zbfa.iloc[:,:12]"
   ]
  },
  {
   "cell_type": "code",
   "execution_count": 21,
   "metadata": {},
   "outputs": [],
   "source": [
    "df_zbfa.columns = ['ean', 'pf_18', 'pmc_18', 'pf_17', 'pmc_17', 'pf_17_5', 'pmc_17_5', 'data', 'pf_17_alc', 'pmc_17_alc', 'pf_17_5_alc', 'pmc_17_5_alc']"
   ]
  },
  {
   "cell_type": "code",
   "execution_count": 22,
   "metadata": {},
   "outputs": [],
   "source": [
    "branco_para_nan(df_zbfa, sobrescreve=True)"
   ]
  },
  {
   "cell_type": "code",
   "execution_count": 23,
   "metadata": {},
   "outputs": [],
   "source": [
    "zbfa_float_col = [col for col in df_zbfa.columns if [p for p in ['pf', 'pmc'] if p in col]]"
   ]
  },
  {
   "cell_type": "code",
   "execution_count": 25,
   "metadata": {},
   "outputs": [],
   "source": [
    "df_zbfa[zbfa_float_col] = df_zbfa[zbfa_float_col].astype(float)"
   ]
  },
  {
   "cell_type": "code",
   "execution_count": 27,
   "metadata": {},
   "outputs": [],
   "source": [
    "converte_tipos_colunas(df_zbfa, {'ean':str, 'data':'data'}, sobrescreve=True)"
   ]
  },
  {
   "cell_type": "code",
   "execution_count": 28,
   "metadata": {},
   "outputs": [],
   "source": [
    "df_zbfa = df_zbfa.sort_values('data', ascending=False).drop_duplicates('ean').drop(columns='data')"
   ]
  },
  {
   "cell_type": "markdown",
   "metadata": {},
   "source": [
    "- ### df_desc_ant"
   ]
  },
  {
   "cell_type": "code",
   "execution_count": 44,
   "metadata": {},
   "outputs": [],
   "source": [
    "df_desc_ant =df_desc_ant[['codigo_de_barras_do_medicamento','material','desc_pf','desc_pmc']].copy()"
   ]
  },
  {
   "cell_type": "code",
   "execution_count": 45,
   "metadata": {},
   "outputs": [],
   "source": [
    "df_desc_ant.columns = ['ean','material','ult_desc_pf','ult_desc_pmc']"
   ]
  },
  {
   "cell_type": "code",
   "execution_count": 47,
   "metadata": {},
   "outputs": [
    {
     "name": "stderr",
     "output_type": "stream",
     "text": [
      "C:\\Users\\nathalia.tavares\\Documents\\Desconto sobre PF Med\\bmldev\\pdleo.py:259: SettingWithCopyWarning: \n",
      "A value is trying to be set on a copy of a slice from a DataFrame.\n",
      "Try using .loc[row_indexer,col_indexer] = value instead\n",
      "\n",
      "See the caveats in the documentation: https://pandas.pydata.org/pandas-docs/stable/user_guide/indexing.html#returning-a-view-versus-a-copy\n",
      "  df[col] = df[col].astype(tipo)\n"
     ]
    }
   ],
   "source": [
    "converte_tipos_colunas(df_desc_ant, {'ean':str, 'material':str}, sobrescreve=True)"
   ]
  },
  {
   "cell_type": "markdown",
   "metadata": {},
   "source": [
    "- ### df_iqvia"
   ]
  },
  {
   "cell_type": "code",
   "execution_count": 58,
   "metadata": {},
   "outputs": [],
   "source": [
    "## Mantendo tudo o que  temos de acordo com o relatório do IQVIA\n",
    "df_iqvia = df_iqvia[df_iqvia['status'] !='Não tem']"
   ]
  },
  {
   "cell_type": "markdown",
   "metadata": {},
   "source": [
    "- ### df_dadosfarma\n"
   ]
  },
  {
   "cell_type": "code",
   "execution_count": 60,
   "metadata": {},
   "outputs": [
    {
     "data": {
      "text/plain": [
       "Index(['material', 'ean', 'categ_loja', 'descricao', 'marca', 'condicao',\n",
       "       'curva_vlr', 'curva_qtd', 'cod_forn_reg_x', 'nome_forn_reg_x',\n",
       "       'cod_forn_ult_x', 'nome_forn_ult_x', 'pmm', 'cmv_ult', 'prc_vnd_mao',\n",
       "       'prc_vnd_pvh', 'prc_vnd_acr', 'prc_vnd_bva', 'analista',\n",
       "       'cod_forn_reg_y', 'nome_forn_reg_y', 'cod_forn_ult_y',\n",
       "       'nome_forn_ult_y', 'margem', 'pf_18', 'pmc_18', 'pf_17', 'pmc_17',\n",
       "       'pf_17_5', 'pmc_17_5', 'pf_17_alc', 'pmc_17_alc', 'pf_17_5_alc',\n",
       "       'pmc_17_5_alc'],\n",
       "      dtype='object')"
      ]
     },
     "execution_count": 60,
     "metadata": {},
     "output_type": "execute_result"
    }
   ],
   "source": [
    "df_dadosfarma.columnsdd"
   ]
  },
  {
   "cell_type": "code",
   "execution_count": 63,
   "metadata": {},
   "outputs": [
    {
     "data": {
      "text/html": [
       "<div>\n",
       "<style scoped>\n",
       "    .dataframe tbody tr th:only-of-type {\n",
       "        vertical-align: middle;\n",
       "    }\n",
       "\n",
       "    .dataframe tbody tr th {\n",
       "        vertical-align: top;\n",
       "    }\n",
       "\n",
       "    .dataframe thead th {\n",
       "        text-align: right;\n",
       "    }\n",
       "</style>\n",
       "<table border=\"1\" class=\"dataframe\">\n",
       "  <thead>\n",
       "    <tr style=\"text-align: right;\">\n",
       "      <th></th>\n",
       "      <th>material</th>\n",
       "      <th>categ_loja</th>\n",
       "      <th>condicao</th>\n",
       "      <th>cod_forn_ult_x</th>\n",
       "      <th>nome_forn_ult_x</th>\n",
       "      <th>pmm</th>\n",
       "      <th>cmv_ult</th>\n",
       "    </tr>\n",
       "  </thead>\n",
       "  <tbody>\n",
       "    <tr>\n",
       "      <th>0</th>\n",
       "      <td>4000010</td>\n",
       "      <td>NaN</td>\n",
       "      <td>ND</td>\n",
       "      <td>4916.0</td>\n",
       "      <td>MAPEMI-BRASIL MATERIAIS MÉDICOS E O</td>\n",
       "      <td>9.32</td>\n",
       "      <td>9.38</td>\n",
       "    </tr>\n",
       "    <tr>\n",
       "      <th>1</th>\n",
       "      <td>4000011</td>\n",
       "      <td>NaN</td>\n",
       "      <td>ND</td>\n",
       "      <td>3593.0</td>\n",
       "      <td>SB COMERCIO LTDA</td>\n",
       "      <td>6.49</td>\n",
       "      <td>6.49</td>\n",
       "    </tr>\n",
       "    <tr>\n",
       "      <th>2</th>\n",
       "      <td>4000012</td>\n",
       "      <td>NaN</td>\n",
       "      <td>ND</td>\n",
       "      <td>12585.0</td>\n",
       "      <td>TOTAL LOGÍSTICA FARMACÊUTICA LTDA -</td>\n",
       "      <td>11.64</td>\n",
       "      <td>11.64</td>\n",
       "    </tr>\n",
       "    <tr>\n",
       "      <th>3</th>\n",
       "      <td>4000013</td>\n",
       "      <td>SIMILAR</td>\n",
       "      <td>ND</td>\n",
       "      <td>12999.0</td>\n",
       "      <td>M DOS S LOFIEGO EIRELI</td>\n",
       "      <td>3.27</td>\n",
       "      <td>5.30</td>\n",
       "    </tr>\n",
       "    <tr>\n",
       "      <th>4</th>\n",
       "      <td>4000014</td>\n",
       "      <td>SIMILAR</td>\n",
       "      <td>RP</td>\n",
       "      <td>12585.0</td>\n",
       "      <td>TOTAL LOGÍSTICA FARMACÊUTICA LTDA -</td>\n",
       "      <td>2.94</td>\n",
       "      <td>2.94</td>\n",
       "    </tr>\n",
       "    <tr>\n",
       "      <th>...</th>\n",
       "      <td>...</td>\n",
       "      <td>...</td>\n",
       "      <td>...</td>\n",
       "      <td>...</td>\n",
       "      <td>...</td>\n",
       "      <td>...</td>\n",
       "      <td>...</td>\n",
       "    </tr>\n",
       "    <tr>\n",
       "      <th>7845</th>\n",
       "      <td>4012573</td>\n",
       "      <td>REFERENCIA</td>\n",
       "      <td>RP</td>\n",
       "      <td>13001.0</td>\n",
       "      <td>DISTRIBUIDORA DE MEDICAMENTOS SANTA</td>\n",
       "      <td>21.89</td>\n",
       "      <td>16.40</td>\n",
       "    </tr>\n",
       "    <tr>\n",
       "      <th>7846</th>\n",
       "      <td>4012584</td>\n",
       "      <td>REFERENCIA</td>\n",
       "      <td>RP</td>\n",
       "      <td>13001.0</td>\n",
       "      <td>DISTRIBUIDORA DE MEDICAMENTOS SANTA</td>\n",
       "      <td>36.03</td>\n",
       "      <td>28.91</td>\n",
       "    </tr>\n",
       "    <tr>\n",
       "      <th>7847</th>\n",
       "      <td>4012586</td>\n",
       "      <td>REFERENCIA</td>\n",
       "      <td>RP</td>\n",
       "      <td>13001.0</td>\n",
       "      <td>DISTRIBUIDORA DE MEDICAMENTOS SANTA</td>\n",
       "      <td>19.49</td>\n",
       "      <td>15.64</td>\n",
       "    </tr>\n",
       "    <tr>\n",
       "      <th>7848</th>\n",
       "      <td>4012587</td>\n",
       "      <td>NaN</td>\n",
       "      <td>RP</td>\n",
       "      <td>13001.0</td>\n",
       "      <td>DISTRIBUIDORA DE MEDICAMENTOS SANTA</td>\n",
       "      <td>56.33</td>\n",
       "      <td>65.51</td>\n",
       "    </tr>\n",
       "    <tr>\n",
       "      <th>7849</th>\n",
       "      <td>4012588</td>\n",
       "      <td>REFERENCIA</td>\n",
       "      <td>RP</td>\n",
       "      <td>13001.0</td>\n",
       "      <td>DISTRIBUIDORA DE MEDICAMENTOS SANTA</td>\n",
       "      <td>112.66</td>\n",
       "      <td>131.00</td>\n",
       "    </tr>\n",
       "  </tbody>\n",
       "</table>\n",
       "<p>7850 rows × 7 columns</p>\n",
       "</div>"
      ],
      "text/plain": [
       "      material  categ_loja condicao  cod_forn_ult_x  \\\n",
       "0      4000010         NaN       ND          4916.0   \n",
       "1      4000011         NaN       ND          3593.0   \n",
       "2      4000012         NaN       ND         12585.0   \n",
       "3      4000013     SIMILAR       ND         12999.0   \n",
       "4      4000014     SIMILAR       RP         12585.0   \n",
       "...        ...         ...      ...             ...   \n",
       "7845   4012573  REFERENCIA       RP         13001.0   \n",
       "7846   4012584  REFERENCIA       RP         13001.0   \n",
       "7847   4012586  REFERENCIA       RP         13001.0   \n",
       "7848   4012587         NaN       RP         13001.0   \n",
       "7849   4012588  REFERENCIA       RP         13001.0   \n",
       "\n",
       "                          nome_forn_ult_x     pmm  cmv_ult  \n",
       "0     MAPEMI-BRASIL MATERIAIS MÉDICOS E O    9.32     9.38  \n",
       "1                        SB COMERCIO LTDA    6.49     6.49  \n",
       "2     TOTAL LOGÍSTICA FARMACÊUTICA LTDA -   11.64    11.64  \n",
       "3                  M DOS S LOFIEGO EIRELI    3.27     5.30  \n",
       "4     TOTAL LOGÍSTICA FARMACÊUTICA LTDA -    2.94     2.94  \n",
       "...                                   ...     ...      ...  \n",
       "7845  DISTRIBUIDORA DE MEDICAMENTOS SANTA   21.89    16.40  \n",
       "7846  DISTRIBUIDORA DE MEDICAMENTOS SANTA   36.03    28.91  \n",
       "7847  DISTRIBUIDORA DE MEDICAMENTOS SANTA   19.49    15.64  \n",
       "7848  DISTRIBUIDORA DE MEDICAMENTOS SANTA   56.33    65.51  \n",
       "7849  DISTRIBUIDORA DE MEDICAMENTOS SANTA  112.66   131.00  \n",
       "\n",
       "[7850 rows x 7 columns]"
      ]
     },
     "execution_count": 63,
     "metadata": {},
     "output_type": "execute_result"
    }
   ],
   "source": [
    "df_dadosfarma[['material','categ_loja','condicao','cod_forn_ult_x', 'nome_forn_ult_x', 'pmm', 'cmv_ult']]"
   ]
  },
  {
   "cell_type": "code",
   "execution_count": null,
   "metadata": {},
   "outputs": [],
   "source": []
  }
 ],
 "metadata": {
  "kernelspec": {
   "display_name": "Python 3",
   "language": "python",
   "name": "python3"
  },
  "language_info": {
   "codemirror_mode": {
    "name": "ipython",
    "version": 3
   },
   "file_extension": ".py",
   "mimetype": "text/x-python",
   "name": "python",
   "nbconvert_exporter": "python",
   "pygments_lexer": "ipython3",
   "version": "3.8.6"
  }
 },
 "nbformat": 4,
 "nbformat_minor": 4
}
