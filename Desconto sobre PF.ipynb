{
 "cells": [
  {
   "cell_type": "markdown",
   "metadata": {},
   "source": [
    "- ## <b>Acompanhamento de precificação: Medicamentos</b>\n"
   ]
  },
  {
   "cell_type": "code",
   "execution_count": 2,
   "metadata": {},
   "outputs": [],
   "source": [
    "import pandas as pd\n",
    "import numpy as np\n",
    "from datetime import datetime\n",
    "from bmldev.pdleo import cria_dfs, le_base_excel, converte_tipos_colunas, branco_para_nan\n",
    "from datetime import datetime"
   ]
  },
  {
   "cell_type": "code",
   "execution_count": 3,
   "metadata": {},
   "outputs": [],
   "source": [
    "dir_input = \"./bases/\"\n",
    "dir_output = \"./relatorio/\""
   ]
  },
  {
   "cell_type": "code",
   "execution_count": 4,
   "metadata": {},
   "outputs": [],
   "source": [
    "dt_hoje = '20210613'\n",
    "dt_ultimo_relatorio = '20210609'"
   ]
  },
  {
   "cell_type": "markdown",
   "metadata": {},
   "source": [
    "- ## <b>Leitura de bases</b>"
   ]
  },
  {
   "cell_type": "code",
   "execution_count": 5,
   "metadata": {},
   "outputs": [
    {
     "name": "stdout",
     "output_type": "stream",
     "text": [
      "Lendo base zbfa...ok\n",
      "Lendo base eina...ok\n",
      "Lendo base mean...ok\n",
      "Wall time: 3.97 s\n"
     ]
    }
   ],
   "source": [
    "%%time\n",
    "dfs_txt = cria_dfs(\n",
    "                nomes_bases=['zbfa', 'eina','mean'],\n",
    "    \n",
    "                palavras_chave=['abcfarma','eina','mean'],\n",
    "    \n",
    "                cols=[16,4,2],\n",
    "    \n",
    "                multiplas_bases_txt=[False],\n",
    "                \n",
    "                diretorio=dir_input\n",
    "\n",
    "    \n",
    ")"
   ]
  },
  {
   "cell_type": "code",
   "execution_count": 6,
   "metadata": {},
   "outputs": [],
   "source": [
    "df_dadosfarma = le_base_excel(dir_input, 'banco de dados')"
   ]
  },
  {
   "cell_type": "code",
   "execution_count": 7,
   "metadata": {},
   "outputs": [],
   "source": [
    "df_iqvia = le_base_excel(dir_input, 'IQVIA_Norte')"
   ]
  },
  {
   "cell_type": "code",
   "execution_count": 8,
   "metadata": {},
   "outputs": [],
   "source": [
    "## Vamos utilizar para comparar o último desconto sobre PF cadastrado para cada SKU\n",
    "\n",
    "df_desc_ant =le_base_excel(dir_input, 'desonto', 'Original')"
   ]
  },
  {
   "cell_type": "markdown",
   "metadata": {},
   "source": [
    "- ## <b>Processamento</b>"
   ]
  },
  {
   "cell_type": "markdown",
   "metadata": {},
   "source": [
    "- ### df_zbfa"
   ]
  },
  {
   "cell_type": "code",
   "execution_count": 137,
   "metadata": {},
   "outputs": [],
   "source": [
    "df_zbfa = dfs_txt['zbfa'].copy()"
   ]
  },
  {
   "cell_type": "code",
   "execution_count": 138,
   "metadata": {},
   "outputs": [],
   "source": [
    "df_zbfa = df_zbfa.iloc[:,:12]"
   ]
  },
  {
   "cell_type": "code",
   "execution_count": 139,
   "metadata": {},
   "outputs": [],
   "source": [
    "df_zbfa.columns = ['ean', 'pf_18', 'pmc_18', 'pf_17', 'pmc_17', 'pf_17_5', 'pmc_17_5', 'data', 'pf_17_alc', 'pmc_17_alc', 'pf_17_5_alc', 'pmc_17_5_alc']"
   ]
  },
  {
   "cell_type": "code",
   "execution_count": 140,
   "metadata": {},
   "outputs": [],
   "source": [
    "branco_para_nan(df_zbfa, sobrescreve=True)"
   ]
  },
  {
   "cell_type": "code",
   "execution_count": 141,
   "metadata": {},
   "outputs": [],
   "source": [
    "zbfa_float_col = [col for col in df_zbfa.columns if [p for p in ['pf', 'pmc'] if p in col]]"
   ]
  },
  {
   "cell_type": "code",
   "execution_count": 142,
   "metadata": {},
   "outputs": [],
   "source": [
    "df_zbfa[zbfa_float_col] = df_zbfa[zbfa_float_col].astype(float)"
   ]
  },
  {
   "cell_type": "code",
   "execution_count": 143,
   "metadata": {},
   "outputs": [],
   "source": [
    "converte_tipos_colunas(df_zbfa, {'ean':str, 'data':'data'}, sobrescreve=True)"
   ]
  },
  {
   "cell_type": "code",
   "execution_count": 144,
   "metadata": {},
   "outputs": [],
   "source": [
    "df_zbfa = df_zbfa.sort_values('data', ascending=False).drop_duplicates('ean').drop(columns='data')"
   ]
  },
  {
   "cell_type": "markdown",
   "metadata": {},
   "source": [
    "- ### df_desc_ant"
   ]
  },
  {
   "cell_type": "code",
   "execution_count": 145,
   "metadata": {},
   "outputs": [],
   "source": [
    "df_desc_ant =df_desc_ant[['codigo_de_barras_do_medicamento','material','desc_pf','desc_pmc']].copy()"
   ]
  },
  {
   "cell_type": "code",
   "execution_count": 146,
   "metadata": {},
   "outputs": [],
   "source": [
    "df_desc_ant.columns = ['ean','material','ult_desc_pf','ult_desc_pmc']"
   ]
  },
  {
   "cell_type": "code",
   "execution_count": 147,
   "metadata": {},
   "outputs": [],
   "source": [
    "converte_tipos_colunas(df_desc_ant, {'ean':str, 'material':str}, sobrescreve=True)"
   ]
  },
  {
   "cell_type": "markdown",
   "metadata": {},
   "source": [
    "- ### df_eina"
   ]
  },
  {
   "cell_type": "code",
   "execution_count": 148,
   "metadata": {},
   "outputs": [],
   "source": [
    "df_eina= dfs_txt['eina'].copy()"
   ]
  },
  {
   "cell_type": "code",
   "execution_count": 149,
   "metadata": {},
   "outputs": [],
   "source": [
    "converte_tipos_colunas(df_eina, {'fornecedor':str, 'material':str}, sobrescreve=True)"
   ]
  },
  {
   "cell_type": "code",
   "execution_count": 150,
   "metadata": {},
   "outputs": [],
   "source": [
    "df_eina = df_eina[df_eina.f == 'X']"
   ]
  },
  {
   "cell_type": "code",
   "execution_count": 151,
   "metadata": {},
   "outputs": [],
   "source": [
    "df_eina = df_eina[['material', 'fornecedor']]"
   ]
  },
  {
   "cell_type": "markdown",
   "metadata": {},
   "source": [
    "- ### df_mean"
   ]
  },
  {
   "cell_type": "code",
   "execution_count": 136,
   "metadata": {},
   "outputs": [],
   "source": [
    "df_mean= dfs_txt['mean'].copy()"
   ]
  },
  {
   "cell_type": "code",
   "execution_count": 153,
   "metadata": {},
   "outputs": [],
   "source": [
    "converte_tipos_colunas(df_mean, {'ean/upc':str, 'material':str}, sobrescreve=True)"
   ]
  },
  {
   "cell_type": "code",
   "execution_count": 154,
   "metadata": {},
   "outputs": [],
   "source": [
    "df_mean.columns = ['material','ean']"
   ]
  },
  {
   "cell_type": "markdown",
   "metadata": {},
   "source": [
    "- ### df_desc_ant- ### df_iqvia"
   ]
  },
  {
   "cell_type": "code",
   "execution_count": 157,
   "metadata": {},
   "outputs": [],
   "source": [
    "## Mantendo tudo o que  temos de acordo com o relatório do IQVIA\n",
    "df_iqvia = df_iqvia[df_iqvia['status'] !='Não tem']"
   ]
  },
  {
   "cell_type": "code",
   "execution_count": 158,
   "metadata": {},
   "outputs": [],
   "source": [
    "converte_tipos_colunas(df_iqvia, {'ean':str, 'material':str}, sobrescreve=True)"
   ]
  },
  {
   "cell_type": "markdown",
   "metadata": {},
   "source": [
    "- ### df_dadosfarma\n"
   ]
  },
  {
   "cell_type": "code",
   "execution_count": 159,
   "metadata": {},
   "outputs": [],
   "source": [
    "df_dadosfarma = df_dadosfarma[['material', 'categ_loja','condicao','cod_forn_ult_x', 'nome_forn_ult_x', 'pmm', 'cmv_ult']]"
   ]
  },
  {
   "cell_type": "code",
   "execution_count": 160,
   "metadata": {},
   "outputs": [],
   "source": [
    "df_dadosfarma.columns = ['material', 'categ_loja','condicao','cod_forn_ult', 'nome_forn_ult', 'pmm', 'custo_ult_entrada']"
   ]
  },
  {
   "cell_type": "code",
   "execution_count": 166,
   "metadata": {},
   "outputs": [
    {
     "name": "stderr",
     "output_type": "stream",
     "text": [
      "C:\\Users\\nathalia.tavares\\Documents\\Desconto sobre PF Med\\bmldev\\pdleo.py:259: SettingWithCopyWarning: \n",
      "A value is trying to be set on a copy of a slice from a DataFrame.\n",
      "Try using .loc[row_indexer,col_indexer] = value instead\n",
      "\n",
      "See the caveats in the documentation: https://pandas.pydata.org/pandas-docs/stable/user_guide/indexing.html#returning-a-view-versus-a-copy\n",
      "  df[col] = df[col].astype(tipo)\n"
     ]
    }
   ],
   "source": [
    "converte_tipos_colunas(df_dadosfarma, {'cod_forn_ult':str, 'material':str}, sobrescreve=True)"
   ]
  },
  {
   "cell_type": "code",
   "execution_count": 174,
   "metadata": {},
   "outputs": [
    {
     "name": "stderr",
     "output_type": "stream",
     "text": [
      "<ipython-input-174-7b803ff9033c>:1: SettingWithCopyWarning: \n",
      "A value is trying to be set on a copy of a slice from a DataFrame.\n",
      "Try using .loc[row_indexer,col_indexer] = value instead\n",
      "\n",
      "See the caveats in the documentation: https://pandas.pydata.org/pandas-docs/stable/user_guide/indexing.html#returning-a-view-versus-a-copy\n",
      "  df_dadosfarma['cod_forn_ult']= df_dadosfarma.cod_forn_ult.str.split(pat='.',expand=True)\n"
     ]
    }
   ],
   "source": [
    "df_dadosfarma['cod_forn_ult']= df_dadosfarma.cod_forn_ult.str.split(pat='.',expand=True)"
   ]
  },
  {
   "cell_type": "code",
   "execution_count": 186,
   "metadata": {},
   "outputs": [],
   "source": [
    "relatorio = relatorio.merge(df_zbfa[['ean','pf_18','pmc_18']], on='ean',how='left')"
   ]
  },
  {
   "cell_type": "code",
   "execution_count": 198,
   "metadata": {},
   "outputs": [],
   "source": [
    "relatorio = relatorio.merge(df_desc_ant[['material','ult_desc_pf', 'ult_desc_pmc']], on='material',how='left')"
   ]
  },
  {
   "cell_type": "code",
   "execution_count": 203,
   "metadata": {},
   "outputs": [],
   "source": [
    "relatorio.pf_18 = relatorio.pf_18.fillna(0)\n",
    "relatorio.pmc_18 = relatorio.pmc_18.fillna(0)\n",
    "relatorio.ult_desc_pf = relatorio.ult_desc_pf.fillna(0)\n",
    "relatorio.ult_desc_pmc = relatorio.ult_desc_pmc.fillna(0)"
   ]
  },
  {
   "cell_type": "code",
   "execution_count": 212,
   "metadata": {},
   "outputs": [],
   "source": [
    "relatorio['desconto_sobre_pf'] = relatorio.apply(lambda row: round(1-(row['custo_ult_entrada']/row['pf_18']),2) if row['pf_18'] > 0 else 0, axis=1)"
   ]
  },
  {
   "cell_type": "code",
   "execution_count": 210,
   "metadata": {},
   "outputs": [],
   "source": [
    "relatorio['mark up'] = relatorio.apply(lambda row: 'X' if row['pf_18'] == 0 and row['pmc_18'] == 0 else np.nan, axis=1)"
   ]
  },
  {
   "cell_type": "code",
   "execution_count": 219,
   "metadata": {},
   "outputs": [],
   "source": [
    "writer = pd.ExcelWriter(dir_output + \"Desconto sobre PF Medicamentos\" + \n",
    "                        pd.to_datetime(datetime.today()).strftime('%Y%m%d') +\n",
    "                        \".xlsx\", engine=\"xlsxwriter\")"
   ]
  },
  {
   "cell_type": "code",
   "execution_count": 220,
   "metadata": {},
   "outputs": [],
   "source": [
    "relatorio.to_excel(writer, index=False)"
   ]
  },
  {
   "cell_type": "code",
   "execution_count": 221,
   "metadata": {},
   "outputs": [],
   "source": [
    "writer.save()"
   ]
  },
  {
   "cell_type": "code",
   "execution_count": null,
   "metadata": {},
   "outputs": [],
   "source": []
  }
 ],
 "metadata": {
  "kernelspec": {
   "display_name": "Python 3",
   "language": "python",
   "name": "python3"
  },
  "language_info": {
   "codemirror_mode": {
    "name": "ipython",
    "version": 3
   },
   "file_extension": ".py",
   "mimetype": "text/x-python",
   "name": "python",
   "nbconvert_exporter": "python",
   "pygments_lexer": "ipython3",
   "version": "3.8.6"
  }
 },
 "nbformat": 4,
 "nbformat_minor": 4
}
